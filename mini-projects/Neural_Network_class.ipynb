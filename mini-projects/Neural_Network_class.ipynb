{
  "nbformat": 4,
  "nbformat_minor": 0,
  "metadata": {
    "colab": {
      "provenance": [],
      "gpuType": "T4"
    },
    "kernelspec": {
      "name": "python3",
      "display_name": "Python 3"
    },
    "language_info": {
      "name": "python"
    },
    "accelerator": "GPU"
  },
  "cells": [
    {
      "cell_type": "code",
      "execution_count": null,
      "metadata": {
        "id": "8IX3Gpwj8a_G"
      },
      "outputs": [],
      "source": [
        "import numpy as np\n",
        "import matplotlib.pyplot as plt\n",
        "import json"
      ]
    },
    {
      "cell_type": "code",
      "source": [
        "from google.colab import drive\n",
        "drive.mount('/content/drive')\n",
        "current_path = rf\"/content/drive/My Drive/ProjectX/mini_projects\""
      ],
      "metadata": {
        "colab": {
          "base_uri": "https://localhost:8080/"
        },
        "id": "CcdUqcjqaLRe",
        "outputId": "76583d4d-5adb-4414-8a7a-c7b8fd26b75e"
      },
      "execution_count": null,
      "outputs": [
        {
          "output_type": "stream",
          "name": "stdout",
          "text": [
            "Mounted at /content/drive\n"
          ]
        }
      ]
    },
    {
      "cell_type": "code",
      "source": [
        "class NN:\n",
        "  def __init__(self,layer_dims):\n",
        "    self.layer_dims = layer_dims\n",
        "    self.parameters = None\n",
        "    self.initialize_parameters()\n",
        "    self.all_costs = []\n",
        "\n",
        "  def initialize_parameters(self):\n",
        "    self.parameters = {}\n",
        "    L = len(self.layer_dims)\n",
        "    for i in range(1,L):\n",
        "      self.parameters[\"W\" + str(i)] = np.random.randn(self.layer_dims[i],self.layer_dims[i-1]) * np.sqrt(2 / self.layer_dims[i-1])\n",
        "      self.parameters[\"b\" + str(i)] = np.zeros((self.layer_dims[i],1))\n",
        "\n",
        "  def relu(self,Z):\n",
        "    return np.maximum(0,Z)\n",
        "\n",
        "  def relu_back(self,Z):\n",
        "    return (Z > 0).astype(Z.dtype)\n",
        "\n",
        "  def softmax(self,Z):\n",
        "    Z_exp = np.exp(Z)\n",
        "    return Z_exp / np.sum(Z_exp,axis=0,keepdims=True)\n",
        "\n",
        "  def compute_cost(self,AL,Y):\n",
        "    m = Y.shape[1]\n",
        "    safe_AL = np.clip(AL,1e-10,1 - 1e-10)\n",
        "    cost = (-1/m) * np.sum(Y * np.log(safe_AL))\n",
        "    cost = np.squeeze(cost)\n",
        "    return cost\n",
        "\n",
        "  def forward_prop(self,X):\n",
        "    caches = []\n",
        "    L = len(self.layer_dims)\n",
        "    A_prev = X\n",
        "    for i in range(1,L-1):\n",
        "      W = self.parameters[\"W\" + str(i)]\n",
        "      b = self.parameters[\"b\" + str(i)]\n",
        "      Z = (W @ A_prev) + b\n",
        "      A = self.relu(Z)\n",
        "      caches.append((A_prev,W,Z))\n",
        "      A_prev = A\n",
        "\n",
        "    W = self.parameters[\"W\" + str(L-1)]\n",
        "    b = self.parameters[\"b\" + str(L-1)]\n",
        "    Z = (W @ A_prev) + b\n",
        "    AL = self.softmax(Z)\n",
        "    caches.append((A_prev,W,Z))\n",
        "    return AL,caches\n",
        "\n",
        "  def backward_prop(self,AL,Y,caches):\n",
        "    m = Y.shape[1]\n",
        "    L = len(self.layer_dims)\n",
        "    grads = {}\n",
        "\n",
        "    A_prev,W,Z = caches[L-2]\n",
        "    dZL = AL - Y\n",
        "    dWL = (1 / m) * (dZL @ A_prev.T)\n",
        "    dbL = (1 / m) * np.sum(dZL,axis=1,keepdims=True)\n",
        "    dA_prev = W.T @ dZL\n",
        "    grads[\"dW\" + str(L-1)] = dWL\n",
        "    grads[\"db\" + str(L-1)] = dbL\n",
        "\n",
        "    for i in reversed(range(1,L-1)):\n",
        "      A_prev,W,Z = caches[i-1]\n",
        "      dZ = dA_prev * self.relu_back(Z)\n",
        "      dW = (1/m) * (dZ @ A_prev.T)\n",
        "      db = (1/m) * np.sum(dZ,axis=1,keepdims=True)\n",
        "      dA_prev = W.T @ dZ\n",
        "      grads[\"dW\" + str(i)] = dW\n",
        "      grads[\"db\" + str(i)] = db\n",
        "\n",
        "    return grads\n",
        "\n",
        "  def update_parameters(self,grads,lr):\n",
        "    L = len(self.layer_dims)\n",
        "    for i in range(1,L):\n",
        "      self.parameters[\"W\" + str(i)] -= lr * grads[\"dW\" + str(i)]\n",
        "      self.parameters[\"b\" + str(i)] -= lr * grads[\"db\" + str(i)]\n",
        "\n",
        "  def train(self,X,Y,learning_rate=0.07,num_iterations=3000,print_cost=True):\n",
        "    costs = []\n",
        "    for i in range(num_iterations):\n",
        "      AL,caches = self.forward_prop(X)\n",
        "      cost  = self.compute_cost(AL,Y)\n",
        "      grads = self.backward_prop(AL,Y,caches)\n",
        "      self.update_parameters(grads,learning_rate)\n",
        "\n",
        "      if print_cost and i % 100 == 0:\n",
        "        print(f\"Cost after {i} iterations : {cost}\")\n",
        "      if i % 100 == 0:\n",
        "        costs.append(cost)\n",
        "        self.all_costs.append(cost)\n",
        "        self.store_params()\n",
        "        self.store_costs()\n",
        "\n",
        "    print(f\"Final cost : {cost}\")\n",
        "    return costs\n",
        "\n",
        "  def predict(self,X):\n",
        "    AL,_ = self.forward_prop(X)\n",
        "    return self.hardmax(AL)\n",
        "\n",
        "  def hardmax(self,A):\n",
        "    maxA = np.max(A,axis=0).reshape(1,A.shape[1])\n",
        "    return (A >= maxA).astype('float')\n",
        "\n",
        "  def getAccuracy(self,Y_pred,Y_test):\n",
        "    pred_classes = np.argmax(Y_pred, axis=0)\n",
        "    true_classes = np.argmax(Y_test, axis=0)\n",
        "    return np.mean(pred_classes == true_classes)\n",
        "\n",
        "  def plot_costs(self,costs):\n",
        "    plt.figure(figsize=(8,6))\n",
        "    plt.plot(costs)\n",
        "    plt.title('Cost Function over Iterations')\n",
        "    plt.xlabel('Iteration (per hundred)')\n",
        "    plt.ylabel('Cost')\n",
        "    plt.show()\n",
        "\n",
        "  def store_params(self):\n",
        "    params_copy = {}\n",
        "    for key in self.parameters:\n",
        "      params_copy[key] = self.parameters[key].tolist()\n",
        "    with open(f\"{current_path}/params.json\",'w') as outfile:\n",
        "      json.dump(params_copy,outfile)\n",
        "\n",
        "  def store_costs(self):\n",
        "    with open(f\"{current_path}/costs.json\",'w') as outfile:\n",
        "      json.dump(self.all_costs,outfile)"
      ],
      "metadata": {
        "id": "q11kq-Gh8iQn"
      },
      "execution_count": null,
      "outputs": []
    },
    {
      "cell_type": "code",
      "source": [
        "from keras.datasets import mnist\n",
        "(train_X, train_y), (test_X, test_y) = mnist.load_data()"
      ],
      "metadata": {
        "colab": {
          "base_uri": "https://localhost:8080/"
        },
        "id": "WUpmGbVmPG-D",
        "outputId": "58525499-cd1f-4233-87ee-342a59409339"
      },
      "execution_count": null,
      "outputs": [
        {
          "output_type": "stream",
          "name": "stdout",
          "text": [
            "Downloading data from https://storage.googleapis.com/tensorflow/tf-keras-datasets/mnist.npz\n",
            "11490434/11490434 [==============================] - 0s 0us/step\n"
          ]
        }
      ]
    },
    {
      "cell_type": "code",
      "source": [
        "print('X_train: ' + str(train_X.shape))\n",
        "print('Y_train: ' + str(train_y.shape))\n",
        "print('X_test:  '  + str(test_X.shape))\n",
        "print('Y_test:  '  + str(test_y.shape))"
      ],
      "metadata": {
        "colab": {
          "base_uri": "https://localhost:8080/"
        },
        "id": "-DQtWNTJP3xi",
        "outputId": "fd4cb3c9-9297-4e31-d11a-87c7c109ea69"
      },
      "execution_count": null,
      "outputs": [
        {
          "output_type": "stream",
          "name": "stdout",
          "text": [
            "X_train: (60000, 28, 28)\n",
            "Y_train: (60000,)\n",
            "X_test:  (10000, 28, 28)\n",
            "Y_test:  (10000,)\n"
          ]
        }
      ]
    },
    {
      "cell_type": "code",
      "source": [
        "m_train = train_X.shape[0]\n",
        "m_test = test_X.shape[0]\n",
        "print(f\"Training examples : {m_train}\")\n",
        "print(f\"Testing examples : {m_test}\")"
      ],
      "metadata": {
        "colab": {
          "base_uri": "https://localhost:8080/"
        },
        "id": "aux23AeGP41L",
        "outputId": "1c1cd12b-c673-440e-dd15-1977fab011d7"
      },
      "execution_count": null,
      "outputs": [
        {
          "output_type": "stream",
          "name": "stdout",
          "text": [
            "Training examples : 60000\n",
            "Testing examples : 10000\n"
          ]
        }
      ]
    },
    {
      "cell_type": "code",
      "source": [
        "train_X_flatten = train_X.reshape(m_train,-1).T\n",
        "test_X_flatten = test_X.reshape(m_test,-1).T\n",
        "\n",
        "train_X_final = train_X_flatten / 255.\n",
        "test_X_final = test_X_flatten / 255."
      ],
      "metadata": {
        "id": "1DckuQ6yRJ0B"
      },
      "execution_count": null,
      "outputs": []
    },
    {
      "cell_type": "code",
      "source": [
        "train_Y_final = np.zeros((10,m_train),dtype='float')\n",
        "test_Y_final = np.zeros((10,m_test),dtype='float')\n",
        "\n",
        "for i in range(train_y.shape[0]):\n",
        "  train_Y_final[train_y[i]][i] = 1.\n",
        "for i in range(test_y.shape[0]):\n",
        "  test_Y_final[test_y[i]][i] = 1."
      ],
      "metadata": {
        "id": "PxjaLSf8R2lF"
      },
      "execution_count": null,
      "outputs": []
    },
    {
      "cell_type": "code",
      "source": [
        "for i in range(5):\n",
        "  print(f\"{train_y[i]} : {train_Y_final[:,i]}\")"
      ],
      "metadata": {
        "colab": {
          "base_uri": "https://localhost:8080/"
        },
        "id": "zQIhecG0R9lt",
        "outputId": "3b259148-f8d3-4b17-cc43-935d10808c9d"
      },
      "execution_count": null,
      "outputs": [
        {
          "output_type": "stream",
          "name": "stdout",
          "text": [
            "5 : [0. 0. 0. 0. 0. 1. 0. 0. 0. 0.]\n",
            "0 : [1. 0. 0. 0. 0. 0. 0. 0. 0. 0.]\n",
            "4 : [0. 0. 0. 0. 1. 0. 0. 0. 0. 0.]\n",
            "1 : [0. 1. 0. 0. 0. 0. 0. 0. 0. 0.]\n",
            "9 : [0. 0. 0. 0. 0. 0. 0. 0. 0. 1.]\n"
          ]
        }
      ]
    },
    {
      "cell_type": "code",
      "source": [
        "print(f\"X_train shape : {train_X_final.shape}\")\n",
        "print(f\"Y_train shape : {train_Y_final.shape}\")\n",
        "print(f\"X_test shape : {test_X_final.shape}\")\n",
        "print(f\"Y_test shape : {test_Y_final.shape}\")\n"
      ],
      "metadata": {
        "colab": {
          "base_uri": "https://localhost:8080/"
        },
        "id": "i3My7xyJTTYK",
        "outputId": "2382f362-8aac-4849-d1ab-e4c4a1213a71"
      },
      "execution_count": null,
      "outputs": [
        {
          "output_type": "stream",
          "name": "stdout",
          "text": [
            "X_train shape : (784, 60000)\n",
            "Y_train shape : (10, 60000)\n",
            "X_test shape : (784, 10000)\n",
            "Y_test shape : (10, 10000)\n"
          ]
        }
      ]
    },
    {
      "cell_type": "code",
      "source": [
        "layer_dims = [train_X_final.shape[0],128,64,10]\n",
        "model = NN(layer_dims)"
      ],
      "metadata": {
        "id": "qLI5QmpuT-YX"
      },
      "execution_count": null,
      "outputs": []
    },
    {
      "cell_type": "code",
      "source": [
        "model.train(train_X_final,train_Y_final,0.1,num_iterations=1000)"
      ],
      "metadata": {
        "colab": {
          "base_uri": "https://localhost:8080/"
        },
        "id": "DBNp6KJ8UdrS",
        "outputId": "1da2fb75-2f88-4fad-8c86-180a5e1c346e"
      },
      "execution_count": null,
      "outputs": [
        {
          "output_type": "stream",
          "name": "stdout",
          "text": [
            "Cost after 0 iterations : 2.4605307017146334\n",
            "Cost after 100 iterations : 0.39958193865527775\n",
            "Cost after 200 iterations : 0.29818254386304804\n",
            "Cost after 300 iterations : 0.2594221040718364\n",
            "Cost after 400 iterations : 0.232010265669739\n",
            "Cost after 500 iterations : 0.21065482023660895\n",
            "Cost after 600 iterations : 0.1931859892398015\n",
            "Cost after 700 iterations : 0.17858364396811574\n",
            "Cost after 800 iterations : 0.1662458988346915\n",
            "Cost after 900 iterations : 0.15563407916765085\n",
            "Final cost : 0.14647865446247094\n"
          ]
        },
        {
          "output_type": "execute_result",
          "data": {
            "text/plain": [
              "[2.4605307017146334,\n",
              " 0.39958193865527775,\n",
              " 0.29818254386304804,\n",
              " 0.2594221040718364,\n",
              " 0.232010265669739,\n",
              " 0.21065482023660895,\n",
              " 0.1931859892398015,\n",
              " 0.17858364396811574,\n",
              " 0.1662458988346915,\n",
              " 0.15563407916765085]"
            ]
          },
          "metadata": {},
          "execution_count": 15
        }
      ]
    },
    {
      "cell_type": "code",
      "source": [
        "Y_pred = model.predict(test_X_final)\n",
        "accuracy = model.getAccuracy(Y_pred,test_Y_final)\n",
        "print(f\"Test Accuracy : {accuracy}\")"
      ],
      "metadata": {
        "colab": {
          "base_uri": "https://localhost:8080/"
        },
        "id": "Utfm0hc3evzN",
        "outputId": "b42b1817-b9fc-4a14-e7a8-f30dc1784e09"
      },
      "execution_count": null,
      "outputs": [
        {
          "output_type": "stream",
          "name": "stdout",
          "text": [
            "Test Accuracy : 0.9541\n"
          ]
        }
      ]
    },
    {
      "cell_type": "code",
      "source": [
        "model.plot_costs(model.all_costs)"
      ],
      "metadata": {
        "colab": {
          "base_uri": "https://localhost:8080/",
          "height": 564
        },
        "id": "MV3IrXgxl4k4",
        "outputId": "67c063d7-396c-45cf-b7f4-5817b47207cc"
      },
      "execution_count": null,
      "outputs": [
        {
          "output_type": "display_data",
          "data": {
            "text/plain": [
              "<Figure size 800x600 with 1 Axes>"
            ],
            "image/png": "[encoded data removed]"
          },
          "metadata": {}
        }
      ]
    },
    {
      "cell_type": "code",
      "source": [
        "index = np.random.randint(0,m_test)\n",
        "print(f\"Index : {index}\")\n",
        "print(f\"True value : {test_y[index]}\")\n",
        "prediction_arr = model.predict(np.array([test_X_final[:,index]]).T)\n",
        "prediction = np.argmax(prediction_arr)\n",
        "print(f\"Predicted value : {prediction}\")\n",
        "plt.imshow(test_X[index])\n",
        "plt.show()"
      ],
      "metadata": {
        "colab": {
          "base_uri": "https://localhost:8080/",
          "height": 485
        },
        "id": "OoS1i3l7l_yQ",
        "outputId": "673aa47b-0c06-461d-ad48-7236d2459a45"
      },
      "execution_count": null,
      "outputs": [
        {
          "output_type": "stream",
          "name": "stdout",
          "text": [
            "Index : 5334\n",
            "True value : 7\n",
            "Predicted value : 7\n"
          ]
        },
        {
          "output_type": "display_data",
          "data": {
            "text/plain": [
              "<Figure size 640x480 with 1 Axes>"
            ],
            "image/png": "[encoded data removed]"
          },
          "metadata": {}
        }
      ]
    },
    {
      "cell_type": "code",
      "source": [],
      "metadata": {
        "id": "NpBwnVDinZS_"
      },
      "execution_count": null,
      "outputs": []
    }
  ]
}