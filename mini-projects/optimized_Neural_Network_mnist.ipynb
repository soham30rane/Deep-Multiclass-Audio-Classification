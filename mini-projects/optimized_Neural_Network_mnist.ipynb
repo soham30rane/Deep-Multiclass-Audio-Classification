{
  "nbformat": 4,
  "nbformat_minor": 0,
  "metadata": {
    "colab": {
      "provenance": [],
      "gpuType": "T4"
    },
    "kernelspec": {
      "name": "python3",
      "display_name": "Python 3"
    },
    "language_info": {
      "name": "python"
    },
    "accelerator": "GPU"
  },
  "cells": [
    {
      "cell_type": "code",
      "execution_count": 1,
      "metadata": {
        "id": "8IX3Gpwj8a_G"
      },
      "outputs": [],
      "source": [
        "import numpy as np\n",
        "import matplotlib.pyplot as plt\n",
        "import json"
      ]
    },
    {
      "cell_type": "code",
      "source": [
        "from google.colab import drive\n",
        "drive.mount('/content/drive')\n",
        "current_path = rf\"/content/drive/My Drive/ProjectX/mini_projects/optimized_mnist\""
      ],
      "metadata": {
        "colab": {
          "base_uri": "https://localhost:8080/"
        },
        "id": "CcdUqcjqaLRe",
        "outputId": "d5f12762-cf8d-4321-d185-2d936bdef13f"
      },
      "execution_count": 2,
      "outputs": [
        {
          "output_type": "stream",
          "name": "stdout",
          "text": [
            "Mounted at /content/drive\n"
          ]
        }
      ]
    },
    {
      "cell_type": "code",
      "source": [
        "class NN:\n",
        "  def __init__(self,layer_dims,keep_probs=None):\n",
        "    self.layer_dims = layer_dims\n",
        "    self.parameters = None\n",
        "    self.v = None\n",
        "    self.s = None\n",
        "    self.initialize_parameters()\n",
        "    self.initialize_adams()\n",
        "    self.t = 0\n",
        "    self.all_costs = []\n",
        "    self.beta1 = 0.9\n",
        "    self.beta2 = 0.999\n",
        "    self.epsilon = 1e-8\n",
        "    self.lambd = 0.7\n",
        "    if(keep_probs == None):\n",
        "      self.keep_probs = [1.]*len(self.layer_dims)\n",
        "    else :\n",
        "      self.keep_probs = keep_probs\n",
        "\n",
        "  def initialize_parameters(self):\n",
        "    self.parameters = {}\n",
        "    L = len(self.layer_dims)\n",
        "    for i in range(1,L):\n",
        "      self.parameters[\"W\" + str(i)] = np.random.randn(self.layer_dims[i],self.layer_dims[i-1]) * np.sqrt(2 / self.layer_dims[i-1])\n",
        "      self.parameters[\"b\" + str(i)] = np.zeros((self.layer_dims[i],1))\n",
        "\n",
        "  def initialize_adams(self):\n",
        "    L = len(self.layer_dims)\n",
        "    self.v = {}\n",
        "    self.s = {}\n",
        "    for i in range(1,L):\n",
        "      self.v[\"dW\" + str(i)] = np.zeros((self.layer_dims[i],self.layer_dims[i-1]))\n",
        "      self.v[\"db\" + str(i)] = np.zeros((self.layer_dims[i],1))\n",
        "      self.s[\"dW\" + str(i)] = np.zeros((self.layer_dims[i],self.layer_dims[i-1]))\n",
        "      self.s[\"db\" + str(i)] = np.zeros((self.layer_dims[i],1))\n",
        "\n",
        "  def relu(self,Z):\n",
        "    return np.maximum(0,Z)\n",
        "\n",
        "  def relu_back(self,Z):\n",
        "    return (Z > 0).astype(Z.dtype)\n",
        "\n",
        "  def softmax(self,Z):\n",
        "    Z_safe = np.clip(Z,-100,100)\n",
        "    Z_exp = np.exp(Z_safe)\n",
        "    return Z_exp / np.sum(Z_exp,axis=0,keepdims=True)\n",
        "\n",
        "  def compute_cost(self,AL,Y):\n",
        "    m = Y.shape[1]\n",
        "    safe_AL = np.clip(AL,1e-10,1 - 1e-10)\n",
        "    cost = (-1/m) * np.sum(Y * np.log(safe_AL))\n",
        "    cost = np.squeeze(cost)\n",
        "\n",
        "    L = len(self.layer_dims)\n",
        "    L2_cost = 0\n",
        "    for i in range(1,L):\n",
        "      W = self.parameters[\"W\" + str(i)]\n",
        "      L2_cost += np.sum(np.square(W))\n",
        "    L2_cost *= (self.lambd / (2*m))\n",
        "\n",
        "    cost += np.squeeze(L2_cost)\n",
        "    return cost\n",
        "\n",
        "  def forward_prop(self,X):\n",
        "    caches = []\n",
        "    L = len(self.layer_dims)\n",
        "    A_prev = X\n",
        "    for i in range(1,L-1):\n",
        "      W = self.parameters[\"W\" + str(i)]\n",
        "      b = self.parameters[\"b\" + str(i)]\n",
        "      Z = (W @ A_prev) + b\n",
        "      A = self.relu(Z)\n",
        "\n",
        "      kp = self.keep_probs[i]\n",
        "      D = np.random.rand(A.shape[0],A.shape[1])\n",
        "      D = (D <= kp).astype('int')\n",
        "      A = A * D\n",
        "      A = A / kp\n",
        "\n",
        "      caches.append((A_prev,W,Z,D))\n",
        "      A_prev = A\n",
        "\n",
        "    W = self.parameters[\"W\" + str(L-1)]\n",
        "    b = self.parameters[\"b\" + str(L-1)]\n",
        "    Z = (W @ A_prev) + b\n",
        "    AL = self.softmax(Z)\n",
        "    caches.append((A_prev,W,Z))\n",
        "    return AL,caches\n",
        "\n",
        "  def backward_prop(self,AL,Y,caches):\n",
        "    m = Y.shape[1]\n",
        "    L = len(self.layer_dims)\n",
        "    grads = {}\n",
        "\n",
        "    A_prev,W,Z = caches[L-2]\n",
        "    dZL = AL - Y\n",
        "    WL = self.parameters[\"W\" + str(L-1)]\n",
        "    dWL = (1 / m) * (dZL @ A_prev.T) + ((self.lambd/m) * WL)\n",
        "    dbL = (1 / m) * np.sum(dZL,axis=1,keepdims=True)\n",
        "    dA_prev = W.T @ dZL\n",
        "    grads[\"dW\" + str(L-1)] = dWL\n",
        "    grads[\"db\" + str(L-1)] = dbL\n",
        "\n",
        "    for i in reversed(range(1,L-1)):\n",
        "      A_prev,W,Z,D = caches[i-1]\n",
        "      kp = self.keep_probs[i]\n",
        "      dA_prev = dA_prev * D\n",
        "      dA_prev =  dA_prev / kp\n",
        "      dZ = dA_prev * self.relu_back(Z)\n",
        "      W = self.parameters[\"W\" + str(i)]\n",
        "      dW = (1/m) * (dZ @ A_prev.T) + + ((self.lambd/m) * W)\n",
        "      db = (1/m) * np.sum(dZ,axis=1,keepdims=True)\n",
        "      dA_prev = W.T @ dZ\n",
        "      grads[\"dW\" + str(i)] = dW\n",
        "      grads[\"db\" + str(i)] = db\n",
        "\n",
        "    return grads\n",
        "\n",
        "  def update_parameters(self,grads,lr):\n",
        "    L = len(self.layer_dims)\n",
        "    for i in range(1,L):\n",
        "      self.parameters[\"W\" + str(i)] -= lr * grads[\"dW\" + str(i)]\n",
        "      self.parameters[\"b\" + str(i)] -= lr * grads[\"db\" + str(i)]\n",
        "\n",
        "  def train(self,X,Y,learning_rate=0.07,num_iterations=1000,print_cost=True,adams=False):\n",
        "    costs = []\n",
        "    for i in range(num_iterations):\n",
        "      AL,caches = self.forward_prop(X)\n",
        "      cost  = self.compute_cost(AL,Y)\n",
        "      grads = self.backward_prop(AL,Y,caches)\n",
        "\n",
        "      if adams:\n",
        "        self.t += 1\n",
        "        self.update_parameters_with_adams(grads,learning_rate,self.t)\n",
        "      else:\n",
        "        self.update_parameters(grads,learning_rate)\n",
        "\n",
        "      if print_cost and i % 100 == 0:\n",
        "        print(f\"Cost after {i} iterations : {cost}\")\n",
        "      if i % 10 == 0:\n",
        "        costs.append(cost)\n",
        "        self.all_costs.append(cost)\n",
        "        self.store_params()\n",
        "        self.store_costs()\n",
        "    print(f\"Final cost : {cost}\")\n",
        "    return costs\n",
        "\n",
        "  def train_mini_batches(self,X,Y,mb_size=64,learning_rate=0.07,num_epochs=1000,print_cost=True,adams=False):\n",
        "    m = Y.shape[1]\n",
        "    costs = []\n",
        "    for i in range(num_epochs):\n",
        "      tot_cost = 0\n",
        "      mini_batches = self.random_mini_batches(X,Y,mb_size)\n",
        "      for mini_batch in mini_batches:\n",
        "        mini_X,mini_Y = mini_batch\n",
        "        AL,caches = self.forward_prop(mini_X)\n",
        "        cost  = self.compute_cost(AL,mini_Y)\n",
        "        grads = self.backward_prop(AL,mini_Y,caches)\n",
        "        tot_cost += cost * mini_Y.shape[1]\n",
        "        if adams:\n",
        "          self.t += 1\n",
        "          self.update_parameters_with_adams(grads,learning_rate,self.t)\n",
        "        else:\n",
        "          self.update_parameters(grads,learning_rate)\n",
        "\n",
        "      cost_avg = tot_cost / m\n",
        "      if print_cost and i % 50 == 0:\n",
        "        print(f\"Cost after {i} epochs : {cost_avg}\")\n",
        "      if i % 10 == 0:\n",
        "        costs.append(cost_avg)\n",
        "        self.all_costs.append(cost_avg)\n",
        "        self.store_params()\n",
        "        self.store_costs()\n",
        "    print(f\"Final cost : {cost_avg}\")\n",
        "    return costs\n",
        "\n",
        "  def predict(self,X):\n",
        "    AL,_ = self.forward_prop(X)\n",
        "    return self.hardmax(AL)\n",
        "\n",
        "  def hardmax(self,A):\n",
        "    maxA = np.max(A,axis=0).reshape(1,A.shape[1])\n",
        "    return (A >= maxA).astype('float')\n",
        "\n",
        "  def getAccuracy(self,Y_pred,Y_test):\n",
        "    pred_classes = np.argmax(Y_pred, axis=0)\n",
        "    true_classes = np.argmax(Y_test, axis=0)\n",
        "    return np.mean(pred_classes == true_classes)\n",
        "\n",
        "  def plot_costs(self,costs):\n",
        "    plt.figure(figsize=(8,6))\n",
        "    plt.plot(costs)\n",
        "    plt.title('Cost Function over Iterations')\n",
        "    plt.xlabel('Iteration')\n",
        "    plt.ylabel('Cost')\n",
        "    plt.show()\n",
        "\n",
        "  def store_params(self):\n",
        "    params_copy = {}\n",
        "    for key in self.parameters:\n",
        "      params_copy[key] = self.parameters[key].tolist()\n",
        "    with open(f\"{current_path}/params.json\",'w') as outfile:\n",
        "      json.dump(params_copy,outfile)\n",
        "\n",
        "  def store_costs(self):\n",
        "    with open(f\"{current_path}/costs.json\",'w') as outfile:\n",
        "      json.dump(self.all_costs,outfile)\n",
        "\n",
        "  def random_mini_batches(self,X,Y,mb_size):\n",
        "    m = Y.shape[1]\n",
        "    mini_batches = []\n",
        "    k = mb_size\n",
        "    perm = list(np.random.permutation(m))\n",
        "    shuf_X = X[:, perm]\n",
        "    shuf_Y = Y[:, perm]\n",
        "    for i in range(m//k):\n",
        "      mini_X = shuf_X[:,i*k:(i+1)*k]\n",
        "      mini_Y = shuf_Y[:,i*k:(i+1)*k]\n",
        "      mini_batches.append((mini_X,mini_Y))\n",
        "    if m % k != 0:\n",
        "      mini_X = shuf_X[:,(m//k)*k::]\n",
        "      mini_Y = shuf_Y[:,(m//k)*k::]\n",
        "      mini_batches.append((mini_X,mini_Y))\n",
        "    return mini_batches\n",
        "\n",
        "  def update_parameters_with_adams(self,grads,lr,t):\n",
        "    B1 = self.beta1\n",
        "    B2 = self.beta2\n",
        "    ep = self.epsilon\n",
        "    L = len(self.layer_dims)\n",
        "    for i in range(1,L):\n",
        "      dW = grads[\"dW\" + str(i)]\n",
        "      db = grads[\"db\" + str(i)]\n",
        "      self.v[\"dW\" + str(i)] = B1 * self.v[\"dW\" + str(i)] + (1 - B1) * dW\n",
        "      self.v[\"db\" + str(i)] = B1 * self.v[\"db\" + str(i)] + (1 - B1) * db\n",
        "      self.s[\"dW\" + str(i)] = B2 * self.s[\"dW\" + str(i)] + (1 - B2) * np.power(dW,2)\n",
        "      self.s[\"db\" + str(i)] = B2 * self.s[\"db\" + str(i)] + (1 - B2) * np.power(db,2)\n",
        "\n",
        "      v_dW = self.v[\"dW\" + str(i)] / (1 - B1**t)\n",
        "      v_db = self.v[\"db\" + str(i)] / (1 - B1**t)\n",
        "      s_dW = self.s[\"dW\" + str(i)] / (1 - B2**t)\n",
        "      s_db = self.s[\"db\" + str(i)] / (1 - B2**t)\n",
        "\n",
        "      self.parameters[\"W\" + str(i)] -= lr * (v_dW / (np.sqrt(s_dW) + ep))\n",
        "      self.parameters[\"b\" + str(i)] -= lr * (v_db / (np.sqrt(s_db) + ep))"
      ],
      "metadata": {
        "id": "q11kq-Gh8iQn"
      },
      "execution_count": 16,
      "outputs": []
    },
    {
      "cell_type": "code",
      "source": [
        "from keras.datasets import mnist\n",
        "(train_X, train_y), (test_X, test_y) = mnist.load_data()"
      ],
      "metadata": {
        "id": "WUpmGbVmPG-D",
        "colab": {
          "base_uri": "https://localhost:8080/"
        },
        "outputId": "2504a139-f93e-4bb5-a036-2a0496f674a2"
      },
      "execution_count": 4,
      "outputs": [
        {
          "output_type": "stream",
          "name": "stdout",
          "text": [
            "Downloading data from https://storage.googleapis.com/tensorflow/tf-keras-datasets/mnist.npz\n",
            "11490434/11490434 [==============================] - 0s 0us/step\n"
          ]
        }
      ]
    },
    {
      "cell_type": "code",
      "source": [
        "print('X_train: ' + str(train_X.shape))\n",
        "print('Y_train: ' + str(train_y.shape))\n",
        "print('X_test:  '  + str(test_X.shape))\n",
        "print('Y_test:  '  + str(test_y.shape))"
      ],
      "metadata": {
        "colab": {
          "base_uri": "https://localhost:8080/"
        },
        "id": "-DQtWNTJP3xi",
        "outputId": "020b2983-bb1e-42cf-c429-22b1072710e5"
      },
      "execution_count": 5,
      "outputs": [
        {
          "output_type": "stream",
          "name": "stdout",
          "text": [
            "X_train: (60000, 28, 28)\n",
            "Y_train: (60000,)\n",
            "X_test:  (10000, 28, 28)\n",
            "Y_test:  (10000,)\n"
          ]
        }
      ]
    },
    {
      "cell_type": "code",
      "source": [
        "m_train = train_X.shape[0]\n",
        "m_test = test_X.shape[0]\n",
        "print(f\"Training examples : {m_train}\")\n",
        "print(f\"Testing examples : {m_test}\")"
      ],
      "metadata": {
        "colab": {
          "base_uri": "https://localhost:8080/"
        },
        "id": "aux23AeGP41L",
        "outputId": "b56c8d9f-3c8f-433c-c5db-22d39fd2673d"
      },
      "execution_count": 6,
      "outputs": [
        {
          "output_type": "stream",
          "name": "stdout",
          "text": [
            "Training examples : 60000\n",
            "Testing examples : 10000\n"
          ]
        }
      ]
    },
    {
      "cell_type": "code",
      "source": [
        "train_X_flatten = train_X.reshape(m_train,-1).T\n",
        "test_X_flatten = test_X.reshape(m_test,-1).T\n",
        "\n",
        "train_X_final = train_X_flatten / 255.\n",
        "test_X_final = test_X_flatten / 255."
      ],
      "metadata": {
        "id": "1DckuQ6yRJ0B"
      },
      "execution_count": 7,
      "outputs": []
    },
    {
      "cell_type": "code",
      "source": [
        "train_Y_final = np.zeros((10,m_train),dtype='float')\n",
        "test_Y_final = np.zeros((10,m_test),dtype='float')\n",
        "\n",
        "for i in range(train_y.shape[0]):\n",
        "  train_Y_final[train_y[i]][i] = 1.\n",
        "for i in range(test_y.shape[0]):\n",
        "  test_Y_final[test_y[i]][i] = 1."
      ],
      "metadata": {
        "id": "PxjaLSf8R2lF"
      },
      "execution_count": 8,
      "outputs": []
    },
    {
      "cell_type": "code",
      "source": [
        "for i in range(5):\n",
        "  print(f\"{train_y[i]} : {train_Y_final[:,i]}\")"
      ],
      "metadata": {
        "colab": {
          "base_uri": "https://localhost:8080/"
        },
        "id": "zQIhecG0R9lt",
        "outputId": "e4ff815e-7205-4a6b-d53f-462581b5d7cf"
      },
      "execution_count": 9,
      "outputs": [
        {
          "output_type": "stream",
          "name": "stdout",
          "text": [
            "5 : [0. 0. 0. 0. 0. 1. 0. 0. 0. 0.]\n",
            "0 : [1. 0. 0. 0. 0. 0. 0. 0. 0. 0.]\n",
            "4 : [0. 0. 0. 0. 1. 0. 0. 0. 0. 0.]\n",
            "1 : [0. 1. 0. 0. 0. 0. 0. 0. 0. 0.]\n",
            "9 : [0. 0. 0. 0. 0. 0. 0. 0. 0. 1.]\n"
          ]
        }
      ]
    },
    {
      "cell_type": "code",
      "source": [
        "print(f\"X_train shape : {train_X_final.shape}\")\n",
        "print(f\"Y_train shape : {train_Y_final.shape}\")\n",
        "print(f\"X_test shape : {test_X_final.shape}\")\n",
        "print(f\"Y_test shape : {test_Y_final.shape}\")\n"
      ],
      "metadata": {
        "colab": {
          "base_uri": "https://localhost:8080/"
        },
        "id": "i3My7xyJTTYK",
        "outputId": "16cbf5c7-5d85-43dc-c26c-bbe806efff16"
      },
      "execution_count": 10,
      "outputs": [
        {
          "output_type": "stream",
          "name": "stdout",
          "text": [
            "X_train shape : (784, 60000)\n",
            "Y_train shape : (10, 60000)\n",
            "X_test shape : (784, 10000)\n",
            "Y_test shape : (10, 10000)\n"
          ]
        }
      ]
    },
    {
      "cell_type": "code",
      "source": [
        "layer_dims = [train_X_final.shape[0],128,64,10]\n",
        "keep_probs = [1.,0.86,0.86,1.]\n",
        "model = NN(layer_dims,keep_probs)"
      ],
      "metadata": {
        "id": "qLI5QmpuT-YX"
      },
      "execution_count": 17,
      "outputs": []
    },
    {
      "cell_type": "code",
      "source": [
        "model.train_mini_batches(train_X_final,train_Y_final,512,0.0001,num_epochs=20,adams=True)\n",
        "Y_pred_train = model.predict(train_X_final)\n",
        "Y_pred_test = model.predict(test_X_final)\n",
        "print(f\"Train Accuracy : {model.getAccuracy(Y_pred_train,train_Y_final)}\")\n",
        "print(f\"Test Accuracy : {model.getAccuracy(Y_pred_test,test_Y_final)}\")"
      ],
      "metadata": {
        "colab": {
          "base_uri": "https://localhost:8080/"
        },
        "id": "DBNp6KJ8UdrS",
        "outputId": "c00fd977-c11f-493d-99e3-823bdaf59936"
      },
      "execution_count": 21,
      "outputs": [
        {
          "output_type": "stream",
          "name": "stdout",
          "text": [
            "Cost after 0 epochs : 0.18855963236895484\n",
            "Final cost : 0.1838054302022548\n",
            "Train Accuracy : 0.9769833333333333\n",
            "Test Accuracy : 0.9718\n"
          ]
        }
      ]
    },
    {
      "cell_type": "code",
      "source": [
        "model.plot_costs(model.all_costs)"
      ],
      "metadata": {
        "colab": {
          "base_uri": "https://localhost:8080/",
          "height": 564
        },
        "id": "MV3IrXgxl4k4",
        "outputId": "75059eb6-2205-4c5e-b3bb-f457c9ce9efc"
      },
      "execution_count": 22,
      "outputs": [
        {
          "output_type": "display_data",
          "data": {
            "text/plain": [
              "<Figure size 800x600 with 1 Axes>"
            ],
            "image/png": "[encoded data removed]"
          },
          "metadata": {}
        }
      ]
    },
    {
      "cell_type": "code",
      "source": [
        "index = np.random.randint(0,m_test)\n",
        "print(f\"Index : {index}\")\n",
        "print(f\"True value : {test_y[index]}\")\n",
        "prediction_arr = model.predict(np.array([test_X_final[:,index]]).T)\n",
        "prediction = np.argmax(prediction_arr)\n",
        "print(f\"Predicted value : {prediction}\")\n",
        "plt.imshow(test_X[index],cmap=plt.get_cmap('gray'))\n",
        "plt.show()"
      ],
      "metadata": {
        "colab": {
          "base_uri": "https://localhost:8080/",
          "height": 485
        },
        "id": "OoS1i3l7l_yQ",
        "outputId": "caed8056-9e4a-46a2-94e6-acd229448a49"
      },
      "execution_count": 24,
      "outputs": [
        {
          "output_type": "stream",
          "name": "stdout",
          "text": [
            "Index : 4472\n",
            "True value : 5\n",
            "Predicted value : 5\n"
          ]
        },
        {
          "output_type": "display_data",
          "data": {
            "text/plain": [
              "<Figure size 640x480 with 1 Axes>"
            ],
            "image/png": "[encoded data removed]"
          },
          "metadata": {}
        }
      ]
    },
    {
      "cell_type": "code",
      "source": [],
      "metadata": {
        "id": "LoLuIx0Faihc"
      },
      "execution_count": null,
      "outputs": []
    }
  ]
}