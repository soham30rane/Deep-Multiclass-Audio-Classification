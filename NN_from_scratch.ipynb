{
 "cells": [
  {
   "cell_type": "code",
   "execution_count": 50,
   "metadata": {},
   "outputs": [],
   "source": [
    "import numpy as np\n",
    "import matplotlib.pyplot as plt\n",
    "import math\n",
    "import pandas as pd\n",
    "from sklearn.model_selection import train_test_split\n"
   ]
  },
  {
   "cell_type": "code",
   "execution_count": 51,
   "metadata": {},
   "outputs": [],
   "source": [
    "data = pd.read_csv(\"C:\\\\Users\\\\AANCHAL BORSE\\\\OneDrive\\\\Documents\\\\newpy\\\\train.csv.zip\")\n"
   ]
  },
  {
   "cell_type": "code",
   "execution_count": 52,
   "metadata": {},
   "outputs": [],
   "source": [
    "d = np.array(data)\n",
    "x,y = d.shape\n",
    "np.random.shuffle(d)\n",
    "x_train = d[1000:x].T\n",
    "y_train = x_train[0]\n",
    "x_train = x_train[1:y]\n",
    "x_train = x_train/255\n",
    "x_test = d[0:1000].T\n",
    "y_test = x_test[0]\n",
    "x_test = x_test[1:y]\n",
    "x_test = x_test/255"
   ]
  },
  {
   "cell_type": "code",
   "execution_count": 53,
   "metadata": {},
   "outputs": [
    {
     "name": "stdout",
     "output_type": "stream",
     "text": [
      "42000 (784, 41000) (784, 1000)\n"
     ]
    }
   ],
   "source": [
    "print(len(d), x_train.shape,  x_test.shape)"
   ]
  },
  {
   "cell_type": "code",
   "execution_count": 54,
   "metadata": {},
   "outputs": [],
   "source": [
    "def  initialize_parameters():\n",
    "    W1 = np.random.rand(10, 784) *0.01 \n",
    "    B1 = np.random.rand(10, 1) *0.01 \n",
    "    W2 = np.random.rand(10, 10) *0.01 \n",
    "    B2 = np.random.rand(10, 1) *0.01   \n",
    "    return W1, B1, W2, B2"
   ]
  },
  {
   "cell_type": "code",
   "execution_count": 55,
   "metadata": {},
   "outputs": [],
   "source": [
    "def relu(Z):\n",
    "    return np.maximum(Z,0)\n",
    "\n",
    "def softmx(Z):\n",
    "    A = np.exp(Z) / sum(np.exp(Z))\n",
    "    return A"
   ]
  },
  {
   "cell_type": "code",
   "execution_count": 56,
   "metadata": {},
   "outputs": [],
   "source": [
    "def forward_prop(W1, B1, W2, B2, X):\n",
    "    Z1 = W1.dot(X) + B1 \n",
    "    A1 = relu(Z1) \n",
    "    Z2 = W2.dot(A1) + B2 \n",
    "    A2 = softmx(Z2) \n",
    "    return Z1, A1, Z2, A2"
   ]
  },
  {
   "cell_type": "code",
   "execution_count": 57,
   "metadata": {},
   "outputs": [],
   "source": [
    "def label_encoded (Y):\n",
    "    label_encoded = np.zeros((Y.size, Y.max() + 1))\n",
    "    label_encoded[np.arange(Y.size), Y] = 1\n",
    "    label_encoded = label_encoded.T\n",
    "    return label_encoded\n",
    "def back_prop(Z1, A1, Z2, A2, W1, W2, X, Y):\n",
    "    m = Y.size\n",
    "    prob_Y = label_encoded (Y)\n",
    "    dZ2 = A2 - prob_Y\n",
    "    dW2 = 1/m * dZ2.dot(A1.T)\n",
    "    dB2 = 1/m * np.sum(dZ2)  \n",
    "    dZ1 = W2.T.dot(dZ2) * (Z1 > 0)  \n",
    "    dW1 = 1/m * dZ1.dot(X.T)\n",
    "    dB1 =1/m  * np.sum(dZ1)    \n",
    "    return dW1, dB1, dW2, dB2"
   ]
  },
  {
   "cell_type": "code",
   "execution_count": 58,
   "metadata": {},
   "outputs": [],
   "source": [
    "def update_params(W1, B1, W2, B2, dW1, dB1, dW2, dB2, alpha):\n",
    "    W1 = W1 - alpha * dW1\n",
    "    B1 = B1 - alpha * dB1\n",
    "    W2 = W2 - alpha * dW2\n",
    "    B2 = B2 - alpha * dB2\n",
    "    return W1, B1, W2, B2"
   ]
  },
  {
   "cell_type": "code",
   "execution_count": 59,
   "metadata": {},
   "outputs": [],
   "source": [
    "def get_predictions(A2):\n",
    "    return np.argmax(A2, 0)\n",
    "def get_accuracy(predictions, Y):\n",
    "    return np.sum(predictions == Y) / Y.size\n",
    "def gradient_descent(X, Y, epochs, alpha):\n",
    "    W1, B1, W2, B2 =  initialize_parameters()\n",
    "    for i in range(epochs):\n",
    "        Z1, A1, Z2, A2 = forward_prop(W1, B1, W2, B2, X)\n",
    "        dW1, dB1, dW2, dB2 = back_prop(Z1, A1, Z2, A2, W1, W2, X, Y)\n",
    "        W1, B1, W2, B2 = update_params(W1, B1, W2, B2, dW1, dB1, dW2, dB2, alpha)\n",
    "        if i % 10 == 0 :\n",
    "          print('epoch',i)\n",
    "          predictions = get_predictions(A2)\n",
    "          print('accuracy',get_accuracy(get_predictions(A2), Y))\n",
    "    return W1, B1, W2, B2"
   ]
  },
  {
   "cell_type": "code",
   "execution_count": 63,
   "metadata": {},
   "outputs": [
    {
     "name": "stdout",
     "output_type": "stream",
     "text": [
      "epoch 0\n",
      "accuracy 0.10536585365853658\n",
      "epoch 10\n",
      "accuracy 0.09802439024390244\n",
      "epoch 20\n",
      "accuracy 0.09802439024390244\n",
      "epoch 30\n",
      "accuracy 0.09802439024390244\n",
      "epoch 40\n",
      "accuracy 0.09802439024390244\n",
      "epoch 50\n",
      "accuracy 0.09802439024390244\n",
      "epoch 60\n",
      "accuracy 0.09802439024390244\n",
      "epoch 70\n",
      "accuracy 0.09802439024390244\n",
      "epoch 80\n",
      "accuracy 0.09804878048780488\n",
      "epoch 90\n",
      "accuracy 0.09804878048780488\n",
      "epoch 100\n",
      "accuracy 0.09870731707317074\n",
      "epoch 110\n",
      "accuracy 0.1\n",
      "epoch 120\n",
      "accuracy 0.10158536585365853\n",
      "epoch 130\n",
      "accuracy 0.10324390243902438\n",
      "epoch 140\n",
      "accuracy 0.10465853658536585\n",
      "epoch 150\n",
      "accuracy 0.10653658536585366\n",
      "epoch 160\n",
      "accuracy 0.11107317073170732\n",
      "epoch 170\n",
      "accuracy 0.13353658536585367\n",
      "epoch 180\n",
      "accuracy 0.14846341463414633\n",
      "epoch 190\n",
      "accuracy 0.16029268292682927\n",
      "epoch 200\n",
      "accuracy 0.17841463414634146\n",
      "epoch 210\n",
      "accuracy 0.20021951219512196\n",
      "epoch 220\n",
      "accuracy 0.2284390243902439\n",
      "epoch 230\n",
      "accuracy 0.25709756097560976\n",
      "epoch 240\n",
      "accuracy 0.282390243902439\n",
      "epoch 250\n",
      "accuracy 0.31853658536585366\n",
      "epoch 260\n",
      "accuracy 0.37046341463414634\n",
      "epoch 270\n",
      "accuracy 0.4063414634146341\n",
      "epoch 280\n",
      "accuracy 0.4343170731707317\n",
      "epoch 290\n",
      "accuracy 0.4769024390243902\n",
      "epoch 300\n",
      "accuracy 0.4928048780487805\n",
      "epoch 310\n",
      "accuracy 0.5084390243902439\n",
      "epoch 320\n",
      "accuracy 0.5232439024390244\n",
      "epoch 330\n",
      "accuracy 0.5388536585365854\n",
      "epoch 340\n",
      "accuracy 0.5558780487804879\n",
      "epoch 350\n",
      "accuracy 0.5758292682926829\n",
      "epoch 360\n",
      "accuracy 0.593390243902439\n",
      "epoch 370\n",
      "accuracy 0.6099024390243902\n",
      "epoch 380\n",
      "accuracy 0.6232682926829268\n",
      "epoch 390\n",
      "accuracy 0.6337317073170732\n",
      "epoch 400\n",
      "accuracy 0.7352195121951219\n",
      "epoch 410\n",
      "accuracy 0.7501463414634146\n",
      "epoch 420\n",
      "accuracy 0.756219512195122\n",
      "epoch 430\n",
      "accuracy 0.7604390243902439\n",
      "epoch 440\n",
      "accuracy 0.7654634146341464\n",
      "epoch 450\n",
      "accuracy 0.7699756097560976\n",
      "epoch 460\n",
      "accuracy 0.774609756097561\n",
      "epoch 470\n",
      "accuracy 0.7791707317073171\n",
      "epoch 480\n",
      "accuracy 0.7836341463414634\n",
      "epoch 490\n",
      "accuracy 0.7881219512195122\n"
     ]
    }
   ],
   "source": [
    "W1, B1, W2, B2 = gradient_descent(x_train, y_train, 500, 0.05)"
   ]
  },
  {
   "cell_type": "code",
   "execution_count": 66,
   "metadata": {},
   "outputs": [],
   "source": [
    "def make_predictions(X, W1, B1, W2, B2):\n",
    "    _,_,_,A2 = forward_prop(W1, B1, W2, B2, X)\n",
    "    predictions = get_predictions(A2)\n",
    "    return predictions\n",
    "\n",
    "def test_prediction(index, W1, B1, W2, B2):\n",
    "    current_image = x_train[:, index, None]\n",
    "    prediction = make_predictions(x_train[:, index, None], W1, B1, W2, B2)\n",
    "    label = y_train[index]\n",
    "    print(\"Prediction : \", prediction)\n",
    "    print(\"Label : \", label)\n",
    "    \n",
    "    current_image = current_image.reshape((28,28)) * 255\n",
    "    plt.gray()\n",
    "    plt.imshow(current_image, interpolation='nearest')\n",
    "    plt.show()"
   ]
  },
  {
   "cell_type": "code",
   "execution_count": 67,
   "metadata": {},
   "outputs": [
    {
     "name": "stdout",
     "output_type": "stream",
     "text": [
      "Prediction :  [1]\n",
      "Label :  1\n"
     ]
    },
    {
     "data": {
      "image/png": "[encoded data removed]",
      "text/plain": [
       "<Figure size 640x480 with 1 Axes>"
      ]
     },
     "metadata": {},
     "output_type": "display_data"
    }
   ],
   "source": [
    "test_prediction(154, W1, B1, W2, B2,)"
   ]
  },
  {
   "cell_type": "code",
   "execution_count": null,
   "metadata": {},
   "outputs": [],
   "source": []
  }
 ],
 "metadata": {
  "kernelspec": {
   "display_name": "Python 3",
   "language": "python",
   "name": "python3"
  },
  "language_info": {
   "codemirror_mode": {
    "name": "ipython",
    "version": 3
   },
   "file_extension": ".py",
   "mimetype": "text/x-python",
   "name": "python",
   "nbconvert_exporter": "python",
   "pygments_lexer": "ipython3",
   "version": "3.12.3"
  }
 },
 "nbformat": 4,
 "nbformat_minor": 2
}
